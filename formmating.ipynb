{
 "cells": [
  {
   "cell_type": "code",
   "execution_count": null,
   "id": "753d466e",
   "metadata": {},
   "outputs": [],
   "source": [
    "import pandas as pd\n",
    "\n",
    "# Tables formmating\n",
    "pd.set_option('display.width', 200) # Set display width (max characters in a row)\n",
    "pd.set_option('display.max_columns', 10) # Limit how many columns to show before wrapping or truncating\n",
    "pd.set_option('display.max_colwidth', 25) # control max column width\n",
    "\n",
    "# Reset formmating\n",
    "pd.reset_option('display.width') \n",
    "pd.reset_option('display.max_columns') \n",
    "pd.reset_option('display.max_colwidth') \n",
    "# pd.reset_option('all') # need matplotlib  \n",
    "\n",
    "\n"
   ]
  }
 ],
 "metadata": {
  "kernelspec": {
   "display_name": ".venv",
   "language": "python",
   "name": "python3"
  },
  "language_info": {
   "codemirror_mode": {
    "name": "ipython",
    "version": 3
   },
   "file_extension": ".py",
   "mimetype": "text/x-python",
   "name": "python",
   "nbconvert_exporter": "python",
   "pygments_lexer": "ipython3",
   "version": "3.13.3"
  }
 },
 "nbformat": 4,
 "nbformat_minor": 5
}
